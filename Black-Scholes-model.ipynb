{
 "cells": [
  {
   "cell_type": "code",
   "execution_count": 1,
   "metadata": {},
   "outputs": [
    {
     "name": "stdout",
     "output_type": "stream",
     "text": [
      "110.7986109144646\n"
     ]
    }
   ],
   "source": [
    "#question1\n",
    "import math\n",
    "import numpy as np\n",
    "u=0.1\n",
    "r=0.1\n",
    "o=0.2\n",
    "S0=100\n",
    "T=1\n",
    "K=1\n",
    "N=250\n",
    "delt=0.5\n",
    "result_S05=np.array([])\n",
    "result_S1=np.array([])\n",
    "for i in range(N):\n",
    "    Z1 = np.random.randn()\n",
    "    Z2 = np.random.randn()\n",
    "    S05=S0*math.exp((u-o*o/2)*delt+o*math.sqrt(delt)*Z1 )\n",
    "    S1=S05*math.exp((u-o*o/2)*delt+o*math.sqrt(delt)*Z2 )\n",
    "    result_S05=np.append(result_S05,S05)\n",
    "    result_S1=np.append(result_S1,S1)\n",
    "\n",
    "S1=np.sum(result_S1)/N\n",
    "print(S1)\n",
    "\n"
   ]
  },
  {
   "cell_type": "code",
   "execution_count": 2,
   "metadata": {},
   "outputs": [
    {
     "name": "stdout",
     "output_type": "stream",
     "text": [
      "13.498732457971604\n"
     ]
    }
   ],
   "source": [
    "#question2\n",
    "\n",
    "def ReLU(x):\n",
    "    return (x+abs(x))/2\n",
    "\n",
    "pai=math.exp(-0.1)*ReLU(result_S1-100).sum()/N\n",
    "print(pai)"
   ]
  },
  {
   "cell_type": "code",
   "execution_count": 3,
   "metadata": {},
   "outputs": [
    {
     "name": "stdout",
     "output_type": "stream",
     "text": [
      "7.041613387997686\n"
     ]
    }
   ],
   "source": [
    "#question3\n",
    "pai2=math.exp(-0.1)*ReLU((result_S1+100+result_S05)/3-100).sum()/N\n",
    "print(pai2)"
   ]
  },
  {
   "cell_type": "code",
   "execution_count": null,
   "metadata": {},
   "outputs": [],
   "source": []
  },
  {
   "cell_type": "code",
   "execution_count": null,
   "metadata": {},
   "outputs": [],
   "source": []
  }
 ],
 "metadata": {
  "kernelspec": {
   "display_name": "Python 3",
   "language": "python",
   "name": "python3"
  },
  "language_info": {
   "codemirror_mode": {
    "name": "ipython",
    "version": 3
   },
   "file_extension": ".py",
   "mimetype": "text/x-python",
   "name": "python",
   "nbconvert_exporter": "python",
   "pygments_lexer": "ipython3",
   "version": "3.7.0"
  }
 },
 "nbformat": 4,
 "nbformat_minor": 2
}
